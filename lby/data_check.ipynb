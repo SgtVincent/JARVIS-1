{
 "cells": [
  {
   "cell_type": "code",
   "execution_count": 2,
   "metadata": {},
   "outputs": [],
   "source": [
    "import json\n",
    "from collections import defaultdict"
   ]
  },
  {
   "cell_type": "code",
   "execution_count": 11,
   "metadata": {},
   "outputs": [],
   "source": [
    "memory_path = \"/home/marmot/Boyang/JARVIS-1/jarvis/assets/memory.json\"\n",
    "with open(memory_path, 'r') as f:\n",
    "    memory_data = json.load(f)"
   ]
  },
  {
   "cell_type": "code",
   "execution_count": 12,
   "metadata": {},
   "outputs": [
    {
     "data": {
      "text/plain": [
       "dict_keys(['painting', 'oak_wood', 'birch_wood', 'oak_slab', 'bowl', 'birch_slab', 'oak_planks', 'birch_planks', 'oak_log', 'birch_log', 'glass', 'stone', 'wooden_shovel', 'stone_shovel', 'wooden_pickaxe', 'wooden_axe', 'wooden_hoe', 'golden_pickaxe', 'golden_apple', 'gold_nugget', 'clock', 'golden_chestplate', 'golden_leggings', 'golden_boots', 'golden_axe', 'golden_hoe', 'stone_pickaxe', 'stone_axe', 'stone_hoe', 'iron_pickaxe', 'diamond_shovel', 'iron_shovel', 'diamond_pickaxe', 'golden_shovel', 'oak_button', 'birch_button', 'redstone_torch', 'redstone', 'tripwire_hook', 'iron_trapdoor', 'iron_door', 'redstone_block', 'oak_door', 'birch_door', 'oak_fence_gate', 'birch_fence_gate', 'oak_trapdoor', 'birch_trapdoor', 'cauldron', 'glass_bottle', 'diamond', 'stick', 'gold_ingot', 'paper', 'iron_ore', 'iron_ingot', 'charcoal', 'book', 'bucket', 'rail', 'oak_boat', 'birch_boat', 'minecart', 'cooked_chicken', 'cooked_mutton', 'cooked_porkchop', 'cooked_beef', 'loom', 'smithing_table', 'barrel', 'composter', 'smoker', 'shield', 'leather_helmet', 'leather_chestplate', 'leather_leggings', 'leather_boots', 'diamond_helmet', 'golden_helmet', 'iron_helmet', 'wooden_sword', 'stone_sword', 'golden_sword', 'iron_sword', 'diamond_sword', 'diamond_axe', 'diamond_hoe', 'diamond_boots', 'jukebox', 'diamond_leggings', 'diamond_chestplate', 'chain', 'crafting_table', 'chest', 'furnace', 'iron_bars', 'ladder', 'oak_fence', 'birch_fence', 'oak_sign', 'birch_sign', 'hopper', 'iron_nugget', 'iron_leggings', 'iron_chestplate', 'heavy_weighted_pressure_plate', 'shears', 'iron_hoe', 'crossbow', 'iron_boots', 'piston', 'activator_rail', 'compass', 'dropper', 'note_block', 'jungle_wood', 'jungle_slab', 'jungle_planks', 'jungle_log', 'jungle_button', 'jungle_door', 'jungle_fence_gate', 'jungle_trapdoor', 'jungle_boat', 'jungle_fence', 'jungle_sign', 'acacia_wood', 'acacia_slab', 'acacia_planks', 'acacia_log', 'acacia_button', 'acacia_door', 'acacia_fence_gate', 'acacia_trapdoor', 'acacia_boat', 'acacia_fence', 'acacia_sign', 'yellow_dye', 'yellow_wool', 'yellow_bed', 'yellow_carpet', 'yellow_banner', 'red_dye', 'red_wool', 'red_bed', 'red_carpet', 'red_banner', 'magenta_dye', 'magenta_wool', 'magenta_bed', 'magenta_carpet', 'magenta_banner', 'light_gray_dye', 'light_gray_wool', 'light_gray_bed', 'light_gray_carpet', 'light_gray_banner', 'pink_dye', 'pink_wool', 'pink_bed', 'pink_carpet', 'pink_banner', 'orange_dye', 'orange_wool', 'orange_bed', 'orange_carpet', 'orange_banner', 'blue_dye', 'blue_wool', 'blue_bed', 'blue_carpet', 'blue_banner', 'light_blue_dye', 'light_blue_wool', 'light_blue_bed', 'light_blue_carpet', 'light_blue_banner', 'purple_dye', 'purple_wool', 'purple_bed', 'purple_carpet', 'purple_banner', 'white_banner', 'white_wool', 'white_bed', 'white_carpet', 'white_dye', 'item_frame'])"
      ]
     },
     "execution_count": 12,
     "metadata": {},
     "output_type": "execute_result"
    }
   ],
   "source": [
    "memory_data.keys()"
   ]
  },
  {
   "cell_type": "code",
   "execution_count": 13,
   "metadata": {},
   "outputs": [
    {
     "data": {
      "text/plain": [
       "{'time': '2023-08-14 03:39:00',\n",
       " 'status': 'success',\n",
       " 'image': '31608ad6-a015-460c-ab10-3f8b56177b76.png',\n",
       " 'init_inventory': {},\n",
       " 'plan': [{'goal': {'logs': 5}, 'type': 'mine', 'text': 'logs'},\n",
       "  {'goal': {'planks': 16}, 'type': 'craft', 'text': 'planks'},\n",
       "  {'goal': {'crafting_table': 1}, 'type': 'craft', 'text': 'crafting_table'},\n",
       "  {'goal': {'stick': 8}, 'type': 'craft', 'text': 'stick'},\n",
       "  {'goal': {'wooden_pickaxe': 1}, 'type': 'craft', 'text': 'wooden_pickaxe'},\n",
       "  {'goal': {'cobblestone': 11}, 'type': 'mine', 'text': 'cobblestone'},\n",
       "  {'goal': {'furnace': 1}, 'type': 'craft', 'text': 'furnace'},\n",
       "  {'goal': {'stone_pickaxe': 1}, 'type': 'craft', 'text': 'stone_pickaxe'},\n",
       "  {'goal': {'iron_ore': 3}, 'type': 'mine', 'text': 'iron_ore'},\n",
       "  {'goal': {'iron_ingot': 3}, 'type': 'smelt', 'text': 'iron_ingot'},\n",
       "  {'goal': {'iron_pickaxe': 1}, 'type': 'craft', 'text': 'iron_pickaxe'}]}"
      ]
     },
     "execution_count": 13,
     "metadata": {},
     "output_type": "execute_result"
    }
   ],
   "source": [
    "memory_data['iron_pickaxe']"
   ]
  },
  {
   "cell_type": "code",
   "execution_count": 3,
   "metadata": {},
   "outputs": [],
   "source": [
    "skills_path = \"/home/marmot/Boyang/JARVIS-1/jarvis/assets/skill.json\"\n",
    "with open(skills_path, 'r') as f:\n",
    "    skill_data = json.load(f)"
   ]
  },
  {
   "cell_type": "code",
   "execution_count": 4,
   "metadata": {},
   "outputs": [
    {
     "data": {
      "text/plain": [
       "dict_keys(['steve', 'logs', 'birch_log', 'oak_log', 'acacia_log', 'apple', 'seeds', 'flower', 'yellow_flower', 'red_flower', 'magenta_flower', 'light_gray_flower', 'pink_flower', 'orange_flower', 'blue_flower', 'white_flower', 'dandelion', 'poppy', 'allium', 'azure_bluet', 'pink_tulip', 'red_tulip', 'white_tulip', 'orange_tulip', 'oxeye_daisy', 'cornflower', 'lily_of_the_valley', 'sugar_gane', 'sand', 'cobblestone', 'stones', 'iron_ore', 'gold_ore', 'diamond', 'obsidian', 'redstone', 'dirt', 'wool', 'white_wool', 'mutton', 'leather', 'beef', 'porkchop', 'chicken', 'string'])"
      ]
     },
     "execution_count": 4,
     "metadata": {},
     "output_type": "execute_result"
    }
   ],
   "source": [
    "skill_data.keys()"
   ]
  },
  {
   "cell_type": "code",
   "execution_count": 9,
   "metadata": {},
   "outputs": [
    {
     "data": {
      "text/plain": [
       "5"
      ]
     },
     "execution_count": 9,
     "metadata": {},
     "output_type": "execute_result"
    }
   ],
   "source": [
    "len(skill_data['iron_ore'])"
   ]
  },
  {
   "cell_type": "code",
   "execution_count": 10,
   "metadata": {},
   "outputs": [
    {
     "data": {
      "text/plain": [
       "[{'text': 'dig down', 'type': 'mine', 'object_item': None, 'timeout': 60},\n",
       " {'text': 'equip stone pickaxe',\n",
       "  'type': 'equip',\n",
       "  'object_item': 'stone_pickaxe'},\n",
       " {'text': 'break iron_ore blocks', 'type': 'mine', 'object_item': None},\n",
       " {'text': 'break iron blocks', 'type': 'mine', 'object_item': None},\n",
       " {'text': 'break the stone blocks and mine iron ore',\n",
       "  'type': 'mine',\n",
       "  'object_item': None}]"
      ]
     },
     "execution_count": 10,
     "metadata": {},
     "output_type": "execute_result"
    }
   ],
   "source": [
    "skill_data['iron_ore']"
   ]
  },
  {
   "cell_type": "code",
   "execution_count": 4,
   "metadata": {},
   "outputs": [
    {
     "name": "stdout",
     "output_type": "stream",
     "text": [
      "Total different biomes: 11\n",
      "Biomes and their seed counts:\n",
      "forest: 98\n",
      "normal: 165\n",
      "oak_forest: 93\n",
      "birch_forest: 41\n",
      "plains: 67\n",
      "savanna: 19\n",
      "desert: 12\n",
      "jungle: 29\n",
      "portal: 16\n",
      "flower_forest: 13\n",
      "deep_cave: 3\n"
     ]
    }
   ],
   "source": [
    "def count_biomes(file_path):\n",
    "    with open(file_path, 'r') as f:\n",
    "        data = json.load(f)\n",
    "    \n",
    "    biome_counts = defaultdict(int)\n",
    "    \n",
    "    for item in data:\n",
    "        biome = item.get(\"biome\", \"unknown\")  # Handle missing biome key\n",
    "        biome_counts[biome] += 1\n",
    "    \n",
    "    return biome_counts\n",
    "\n",
    "file_path = \"/home/marmot/Boyang/JARVIS-1/jarvis/assets/spawn.json\"\n",
    "biome_counts = count_biomes(file_path)\n",
    "\n",
    "print(f\"Total different biomes: {len(biome_counts)}\")\n",
    "print(\"Biomes and their seed counts:\")\n",
    "for biome, count in biome_counts.items():\n",
    "    print(f\"{biome}: {count}\")"
   ]
  },
  {
   "cell_type": "code",
   "execution_count": null,
   "metadata": {},
   "outputs": [
    {
     "name": "stdout",
     "output_type": "stream",
     "text": [
      "{\n",
      "    \"hand\": [\n",
      "        \"painting\",\n",
      "        \"white_banner\"\n",
      "    ],\n",
      "    \"building\": [\n",
      "        \"oak_wood\",\n",
      "        \"birch_wood\",\n",
      "        \"oak_slab\",\n",
      "        \"birch_slab\",\n",
      "        \"oak_planks\",\n",
      "        \"birch_planks\",\n",
      "        \"oak_log\",\n",
      "        \"birch_log\",\n",
      "        \"glass\",\n",
      "        \"stone\",\n",
      "        \"acacia_wood\",\n",
      "        \"acacia_slab\",\n",
      "        \"acacia_planks\",\n",
      "        \"acacia_log\",\n",
      "        \"jungle_wood\",\n",
      "        \"jungle_slab\",\n",
      "        \"jungle_planks\",\n",
      "        \"jungle_log\"\n",
      "    ],\n",
      "    \"tool\": [\n",
      "        \"wooden_shovel\",\n",
      "        \"wooden_hoe\",\n",
      "        \"wooden_axe\",\n",
      "        \"stone_shovel\",\n",
      "        \"wooden_pickaxe\",\n",
      "        \"clock\",\n",
      "        \"golden_pickaxe\",\n",
      "        \"golden_chestplate\",\n",
      "        \"golden_leggings\",\n",
      "        \"golden_boots\",\n",
      "        \"golden_helmet\",\n",
      "        \"golden_axe\",\n",
      "        \"golden_hoe\",\n",
      "        \"stone_pickaxe\",\n",
      "        \"stone_axe\",\n",
      "        \"stone_hoe\",\n",
      "        \"iron_pickaxe\",\n",
      "        \"diamond_shovel\",\n",
      "        \"iron_shovel\",\n",
      "        \"diamond_pickaxe\",\n",
      "        \"golden_shovel\",\n",
      "        \"diamond_hoe\",\n",
      "        \"diamond_axe\",\n",
      "        \"iron_hoe\",\n",
      "        \"crossbow\"\n",
      "    ],\n",
      "    \"foodstuffs\": [\n",
      "        \"bowl\",\n",
      "        \"golden_apple\",\n",
      "        \"gold_nugget\",\n",
      "        \"cooked_chicken\",\n",
      "        \"cooked_mutton\",\n",
      "        \"cooked_porkchop\",\n",
      "        \"cooked_beef\"\n",
      "    ],\n",
      "    \"redstone\": [\n",
      "        \"oak_button\",\n",
      "        \"birch_button\",\n",
      "        \"redstone_torch\",\n",
      "        \"tripwire_hook\",\n",
      "        \"iron_trapdoor\",\n",
      "        \"iron_door\",\n",
      "        \"redstone_block\",\n",
      "        \"oak_door\",\n",
      "        \"birch_door\",\n",
      "        \"oak_fence_gate\",\n",
      "        \"birch_fence_gate\",\n",
      "        \"oak_trapdoor\",\n",
      "        \"birch_trapdoor\",\n",
      "        \"piston\",\n",
      "        \"activator_rail\",\n",
      "        \"compass\",\n",
      "        \"acacia_button\",\n",
      "        \"acacia_door\",\n",
      "        \"acacia_fence_gate\",\n",
      "        \"acacia_trapdoor\",\n",
      "        \"jungle_button\",\n",
      "        \"jungle_door\",\n",
      "        \"jungle_fence_gate\",\n",
      "        \"jungle_trapdoor\",\n",
      "        \"redstone\",\n",
      "        \"dropper\",\n",
      "        \"note_block\"\n",
      "    ],\n",
      "    \"brewing\": [\n",
      "        \"cauldron\",\n",
      "        \"glass_bottle\"\n",
      "    ],\n",
      "    \"miscellaneous\": [\n",
      "        \"diamond\",\n",
      "        \"stick\",\n",
      "        \"gold_ingot\",\n",
      "        \"paper\",\n",
      "        \"iron_ore\",\n",
      "        \"iron_ingot\",\n",
      "        \"charcoal\",\n",
      "        \"book\",\n",
      "        \"bucket\"\n",
      "    ],\n",
      "    \"decoration\": [\n",
      "        \"jukebox\",\n",
      "        \"chain\",\n",
      "        \"crafting_table\",\n",
      "        \"chest\",\n",
      "        \"furnace\",\n",
      "        \"iron_bars\",\n",
      "        \"ladder\",\n",
      "        \"oak_fence\",\n",
      "        \"birch_fence\",\n",
      "        \"acacia_fence\",\n",
      "        \"jungle_fence\"\n",
      "    ],\n",
      "    \"transportation\": [\n",
      "        \"rail\",\n",
      "        \"oak_boat\",\n",
      "        \"birch_boat\",\n",
      "        \"minecart\",\n",
      "        \"acacia_boat\",\n",
      "        \"jungle_boat\"\n",
      "    ],\n",
      "    \"animals\": [\n",
      "        \"white_wool\",\n",
      "        \"white_bed\",\n",
      "        \"white_carpet\"\n",
      "    ],\n",
      "    \"occupation_block\": [\n",
      "        \"loom\",\n",
      "        \"smithing_table\",\n",
      "        \"barrel\",\n",
      "        \"composter\",\n",
      "        \"smoker\"\n",
      "    ],\n",
      "    \"equipment\": [\n",
      "        \"shield\",\n",
      "        \"leather_helmet\",\n",
      "        \"leather_chestplate\",\n",
      "        \"leather_leggings\",\n",
      "        \"leather_boots\",\n",
      "        \"iron_helmet\",\n",
      "        \"diamond_helmet\",\n",
      "        \"diamond_leggings\",\n",
      "        \"diamond_chestplate\",\n",
      "        \"diamond_boots\",\n",
      "        \"iron_boots\"\n",
      "    ],\n",
      "    \"decorations\": [\n",
      "        \"item_frame\"\n",
      "    ],\n",
      "    \"combat\": [\n",
      "        \"wooden_sword\",\n",
      "        \"stone_sword\",\n",
      "        \"golden_sword\",\n",
      "        \"iron_sword\",\n",
      "        \"diamond_sword\"\n",
      "    ],\n",
      "    \"iron\": [\n",
      "        \"hopper\",\n",
      "        \"iron_nugget\",\n",
      "        \"iron_leggings\",\n",
      "        \"iron_chestplate\",\n",
      "        \"heavy_weighted_pressure_plate\",\n",
      "        \"shears\"\n",
      "    ],\n",
      "    \"colorful\": [\n",
      "        \"yellow_dye\",\n",
      "        \"red_dye\",\n",
      "        \"magenta_dye\",\n",
      "        \"light_gray_dye\",\n",
      "        \"pink_dye\",\n",
      "        \"orange_dye\",\n",
      "        \"blue_dye\",\n",
      "        \"white_dye\",\n",
      "        \"light_blue_dye\",\n",
      "        \"purple_dye\",\n",
      "        \"yellow_wool\",\n",
      "        \"red_wool\",\n",
      "        \"magenta_wool\",\n",
      "        \"light_gray_wool\",\n",
      "        \"pink_wool\",\n",
      "        \"orange_wool\",\n",
      "        \"blue_wool\",\n",
      "        \"light_blue_wool\",\n",
      "        \"purple_wool\",\n",
      "        \"yellow_bed\",\n",
      "        \"red_bed\",\n",
      "        \"magenta_bed\",\n",
      "        \"light_gray_bed\",\n",
      "        \"pink_bed\",\n",
      "        \"orange_bed\",\n",
      "        \"orange_bed\",\n",
      "        \"blue_bed\",\n",
      "        \"light_blue_bed\",\n",
      "        \"purple_bed\",\n",
      "        \"yellow_carpet\",\n",
      "        \"red_carpet\",\n",
      "        \"magenta_carpet\",\n",
      "        \"light_gray_carpet\",\n",
      "        \"pink_carpet\",\n",
      "        \"orange_carpet\",\n",
      "        \"blue_carpet\",\n",
      "        \"light_blue_carpet\",\n",
      "        \"purple_carpet\",\n",
      "        \"yellow_banner\",\n",
      "        \"red_banner\",\n",
      "        \"magenta_banner\",\n",
      "        \"light_gray_banner\",\n",
      "        \"pink_banner\",\n",
      "        \"orange_banner\",\n",
      "        \"blue_banner\",\n",
      "        \"light_blue_banner\",\n",
      "        \"purple_banner\"\n",
      "    ]\n",
      "}\n"
     ]
    }
   ],
   "source": [
    "# Load the JSON data from a file\n",
    "with open(\"/home/marmot/Boyang/JARVIS-1/jarvis/assets/tasks.json\", \"r\") as file:\n",
    "    tasks_list = json.load(file)\n",
    "\n",
    "# Transform data to group tasks by their group\n",
    "grouped_tasks = {}\n",
    "\n",
    "for task in tasks_list:\n",
    "    group = task[\"group\"]\n",
    "    task_name = task[\"task\"]\n",
    "\n",
    "    if group not in grouped_tasks:\n",
    "        grouped_tasks[group] = []\n",
    "\n",
    "    grouped_tasks[group].append(task_name)\n",
    "\n",
    "# Save the new JSON structure to a file\n",
    "with open(\"grouped_tasks.json\", \"w\") as file:\n",
    "    json.dump(grouped_tasks, file, indent=4)\n",
    "\n",
    "# Print the grouped tasks\n",
    "print(json.dumps(grouped_tasks, indent=4))\n"
   ]
  },
  {
   "cell_type": "code",
   "execution_count": 2,
   "metadata": {},
   "outputs": [
    {
     "name": "stdout",
     "output_type": "stream",
     "text": [
      "Total Number of Groups: 16\n",
      "\n",
      "Number of Tasks in Each Group:\n",
      "hand: 2 tasks\n",
      "building: 18 tasks\n",
      "tool: 25 tasks\n",
      "foodstuffs: 7 tasks\n",
      "redstone: 27 tasks\n",
      "brewing: 2 tasks\n",
      "miscellaneous: 9 tasks\n",
      "decoration: 11 tasks\n",
      "transportation: 6 tasks\n",
      "animals: 3 tasks\n",
      "occupation_block: 5 tasks\n",
      "equipment: 11 tasks\n",
      "decorations: 1 tasks\n",
      "combat: 5 tasks\n",
      "iron: 6 tasks\n",
      "colorful: 47 tasks\n"
     ]
    }
   ],
   "source": [
    "# Load the grouped JSON data from file\n",
    "with open(\"grouped_tasks.json\", \"r\") as file:\n",
    "    grouped_tasks = json.load(file)\n",
    "\n",
    "# Count the number of groups\n",
    "num_groups = len(grouped_tasks)\n",
    "\n",
    "# Count the number of tasks in each group\n",
    "group_counts = {group: len(tasks) for group, tasks in grouped_tasks.items()}\n",
    "\n",
    "# Print results\n",
    "print(f\"Total Number of Groups: {num_groups}\")\n",
    "print(\"\\nNumber of Tasks in Each Group:\")\n",
    "for group, count in group_counts.items():\n",
    "    print(f\"{group}: {count} tasks\")\n"
   ]
  }
 ],
 "metadata": {
  "kernelspec": {
   "display_name": "jarvis",
   "language": "python",
   "name": "python3"
  },
  "language_info": {
   "codemirror_mode": {
    "name": "ipython",
    "version": 3
   },
   "file_extension": ".py",
   "mimetype": "text/x-python",
   "name": "python",
   "nbconvert_exporter": "python",
   "pygments_lexer": "ipython3",
   "version": "3.10.16"
  }
 },
 "nbformat": 4,
 "nbformat_minor": 2
}
