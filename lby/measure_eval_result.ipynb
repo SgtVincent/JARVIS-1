{
 "cells": [
  {
   "cell_type": "code",
   "execution_count": 6,
   "metadata": {},
   "outputs": [
    {
     "name": "stdout",
     "output_type": "stream",
     "text": [
      "        task name  total_evaluations  success_count  success_rate\n",
      "0  crafting_table                 68             68      1.000000\n",
      "1    iron_pickaxe                 68             12      0.176471\n",
      "2   stone_pickaxe                 68             56      0.823529\n",
      "3  wooden_pickaxe                 62             57      0.919355\n"
     ]
    }
   ],
   "source": [
    "import pandas as pd\n",
    "\n",
    "def calculate_task_statistics(file_path):\n",
    "    \"\"\"\n",
    "    Reads a given file containing task results and computes:\n",
    "    - Total evaluations per task\n",
    "    - Number of successful attempts per task\n",
    "    - Success rate per task\n",
    "\n",
    "    Args:\n",
    "        file_path (str): Path to the input file.\n",
    "\n",
    "    Returns:\n",
    "        pd.DataFrame: DataFrame containing task names, total evaluations, \n",
    "                      success count, and success rates.\n",
    "    \"\"\"\n",
    "    # Load the data\n",
    "    df = pd.read_csv(file_path, sep=\"\\t\")\n",
    "\n",
    "    # Ensure the 'result' column is treated as a boolean\n",
    "    df[\"result\"] = df[\"result\"].astype(bool)\n",
    "\n",
    "    # Calculate statistics per task\n",
    "    task_stats = df.groupby(\"task name\").agg(\n",
    "        total_evaluations=(\"result\", \"count\"),\n",
    "        success_count=(\"result\", \"sum\"),\n",
    "        success_rate=(\"result\", \"mean\")\n",
    "    ).reset_index()\n",
    "\n",
    "    # Rename columns for clarity\n",
    "    task_stats.rename(columns={\"result\": \"success_rate\"}, inplace=True)\n",
    "\n",
    "    return task_stats\n",
    "\n",
    "# Example usage:\n",
    "file_path = \"eval_qwen-turbo.txt\"  # Change this to your actual file path\n",
    "task_stats_df = calculate_task_statistics(file_path)\n",
    "\n",
    "# Display the results\n",
    "print(task_stats_df)\n"
   ]
  },
  {
   "cell_type": "code",
   "execution_count": null,
   "metadata": {},
   "outputs": [],
   "source": [
    "# Example usage:\n",
    "file_path = \"eval_qwen-max.txt\"  # Change this to your actual file path\n",
    "task_stats_df = calculate_task_statistics(file_path)\n",
    "\n",
    "# Display the results\n",
    "print(task_stats_df)"
   ]
  }
 ],
 "metadata": {
  "kernelspec": {
   "display_name": "jarvis",
   "language": "python",
   "name": "python3"
  },
  "language_info": {
   "codemirror_mode": {
    "name": "ipython",
    "version": 3
   },
   "file_extension": ".py",
   "mimetype": "text/x-python",
   "name": "python",
   "nbconvert_exporter": "python",
   "pygments_lexer": "ipython3",
   "version": "3.10.16"
  }
 },
 "nbformat": 4,
 "nbformat_minor": 2
}
