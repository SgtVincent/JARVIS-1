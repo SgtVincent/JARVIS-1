{
 "cells": [
  {
   "cell_type": "code",
   "execution_count": 1,
   "metadata": {},
   "outputs": [],
   "source": [
    "import json\n",
    "from pathlib import Path\n",
    "from typing import (\n",
    "    Optional, Sequence, List, Tuple, Dict, Union, Callable\n",
    ")"
   ]
  },
  {
   "cell_type": "code",
   "execution_count": 2,
   "metadata": {},
   "outputs": [],
   "source": [
    "FILE_DIR = Path(\"/home/marmot/Boyang/JARVIS-1/jarvis/assets\")\n",
    "\n",
    "SPAWN_FILE = FILE_DIR / \"spawn.json\"\n",
    "MC_CONSTANTS_FILE = FILE_DIR / \"mc_constants.1.16.json\"\n",
    "COMMON_LABELS_FILE = FILE_DIR / \"common_labels.json\"\n",
    "CARED_ITEMS_FILE = FILE_DIR / \"cared_items.json\"\n",
    "RECIPES_DIR = FILE_DIR / \"recipes\"\n",
    "COLOR_FILE = FILE_DIR / \"colors.json\"\n",
    "TAG_ITEMS_FILE = FILE_DIR / \"tag_items.json\"\n",
    "SKILL_FILE = FILE_DIR / \"skill.json\"\n",
    "MEMORY_FILE = FILE_DIR / \"memory.json\"\n",
    "TASKS_FILE = FILE_DIR / \"tasks.json\"\n",
    "\n",
    "RECIPES_BOOKS = {}\n",
    "RECIPES_INGREDIENTS = []\n",
    "\n",
    "for recipe in Path(RECIPES_DIR).glob(\"*.json\"):\n",
    "    with recipe.open(\"r\") as f:\n",
    "        RECIPES_BOOKS[recipe.stem] = json.load(f)\n",
    "        if RECIPES_BOOKS[recipe.stem][\"type\"] == \"minecraft:crafting_shapeless\":\n",
    "            for ingredient in RECIPES_BOOKS[recipe.stem][\"ingredients\"]:\n",
    "                if 'item' in ingredient:\n",
    "                    RECIPES_INGREDIENTS.append(ingredient['item'].replace(\"minecraft:\", \"\"))\n",
    "                elif 'tag' in ingredient:\n",
    "                    RECIPES_INGREDIENTS.append(ingredient['tag'].replace(\"minecraft:\", \"\"))\n",
    "        elif RECIPES_BOOKS[recipe.stem][\"type\"] == \"minecraft:crafting_shaped\":\n",
    "            for key, ingredient in RECIPES_BOOKS[recipe.stem][\"key\"].items():\n",
    "                if 'item' in ingredient:\n",
    "                    RECIPES_INGREDIENTS.append(ingredient['item'].replace(\"minecraft:\", \"\"))\n",
    "                elif 'tag' in ingredient:\n",
    "                    RECIPES_INGREDIENTS.append(ingredient['tag'].replace(\"minecraft:\", \"\"))\n",
    "\n",
    "RECIPES_INGREDIENTS = sorted(list(set(RECIPES_INGREDIENTS)))\n",
    "# print('Len of ingredients:', len(RECIPES_INGREDIENTS))\n",
    "# print(RECIPES_INGREDIENTS)\n",
    "\n",
    "with open(SPAWN_FILE, \"r\") as f:\n",
    "    SPAWN_CONSTANTS = json.load(f)\n",
    "    \n",
    "with open(COLOR_FILE, \"r\") as f:\n",
    "    COLOR_CONSTANTS = json.load(f)\n",
    "\n",
    "def get_spawn_position(\n",
    "    seed: Optional[int] = None, \n",
    "    biome: Optional[str] = None, \n",
    "    **kwargs,\n",
    ") -> List[Tuple[int, int, int]]:\n",
    "    result = []\n",
    "    for spaw_position in SPAWN_CONSTANTS:\n",
    "        if seed:\n",
    "            if spaw_position['seed'] != seed:\n",
    "                continue\n",
    "        if biome:\n",
    "            if spaw_position['biome'] != biome:\n",
    "                continue\n",
    "        result.append(spaw_position['player_pos'])\n",
    "    return result\n",
    "\n",
    "ALL_SEEDS = sorted(list(set([spaw_position['seed'] for spaw_position in SPAWN_CONSTANTS])))\n",
    "\n",
    "with open(MC_CONSTANTS_FILE, \"r\") as f:\n",
    "    MC_CONSTANTS = json.load(f)\n",
    "\n",
    "with open(COMMON_LABELS_FILE, \"r\") as f:\n",
    "    COMMON_ITEMS_IDX_TO_NAME = json.load(f)\n",
    "\n",
    "with open(CARED_ITEMS_FILE, \"r\") as f:\n",
    "    CARED_ITEMS = json.load(f)\n",
    "\n",
    "ALL_BIOMES = ['forest', 'plains']\n",
    "ALL_WEATHERS = ['clear', 'rain', 'thunder']\n",
    "EQUIP_SLOTS = ['head', 'feet', 'chest', 'legs', 'offhand']\n",
    "\n",
    "ALL_ITEMS = {}\n",
    "EQUIPABLE_ITEMS = {}\n",
    "for item in MC_CONSTANTS[\"items\"]:\n",
    "    ALL_ITEMS[item['type']] = item\n",
    "    if item['bestEquipmentSlot'] in EQUIP_SLOTS:\n",
    "        equip_slot = item['bestEquipmentSlot']\n",
    "        if equip_slot not in EQUIPABLE_ITEMS:\n",
    "            EQUIPABLE_ITEMS[equip_slot] = []\n",
    "        EQUIPABLE_ITEMS[equip_slot].append(item['type'])\n",
    "    \n",
    "ALL_ITEMS_IDX_TO_NAME = sorted(list(ALL_ITEMS.keys()))\n",
    "ALL_ITEMS_NAME_TO_IDX = {item: idx for idx, item in enumerate(ALL_ITEMS_IDX_TO_NAME)}\n",
    "\n",
    "\n",
    "KEYS_TO_INFO = [\n",
    "    'pov', \n",
    "    'inventory', \n",
    "    'equipped_items', \n",
    "    'life_stats', \n",
    "    'location_stats', \n",
    "    'use_item', \n",
    "    'drop', \n",
    "    'pickup', \n",
    "    'break_item', \n",
    "    'craft_item', \n",
    "    'mine_block', \n",
    "    'damage_dealt', \n",
    "    'entity_killed_by', \n",
    "    'kill_entity', \n",
    "    'full_stats', \n",
    "    'player_pos', \n",
    "    'is_gui_open'\n",
    "]"
   ]
  },
  {
   "cell_type": "code",
   "execution_count": 4,
   "metadata": {},
   "outputs": [
    {
     "name": "stdout",
     "output_type": "stream",
     "text": [
      "Len of recipes: 860\n",
      "Len of ingredients: 265\n"
     ]
    }
   ],
   "source": [
    "print('Len of recipes:', len(RECIPES_BOOKS))\n",
    "print('Len of ingredients:', len(RECIPES_INGREDIENTS))\n",
    "\n",
    "# 860 recipies, with need of 265 unique items"
   ]
  },
  {
   "cell_type": "code",
   "execution_count": 3,
   "metadata": {},
   "outputs": [],
   "source": [
    "with open('full_recipies.json', 'w') as json_file:\n",
    "    json.dump(RECIPES_BOOKS, json_file, indent=4)\n",
    "\n",
    "with open('full_ingredients.json', 'w') as json_file:\n",
    "    json.dump(RECIPES_INGREDIENTS, json_file, indent=4)"
   ]
  },
  {
   "cell_type": "code",
   "execution_count": 5,
   "metadata": {},
   "outputs": [
    {
     "name": "stdout",
     "output_type": "stream",
     "text": [
      "Len of all items: 976\n",
      "Len of equipable items: 5\n"
     ]
    }
   ],
   "source": [
    "ALL_ITEMS_IDX_TO_NAME \n",
    "ALL_ITEMS_NAME_TO_IDX \n",
    "print('Len of all items:', len(ALL_ITEMS))\n",
    "print('Len of equipable items:', len(EQUIPABLE_ITEMS))"
   ]
  },
  {
   "cell_type": "code",
   "execution_count": 6,
   "metadata": {},
   "outputs": [
    {
     "name": "stdout",
     "output_type": "stream",
     "text": [
      "item property\n"
     ]
    },
    {
     "data": {
      "text/plain": [
       "['type',\n",
       " 'damageable',\n",
       " 'stackable',\n",
       " 'stackSize',\n",
       " 'useAction',\n",
       " 'enchantable',\n",
       " 'rarity',\n",
       " 'maxDamage',\n",
       " 'maxUseDuration',\n",
       " 'block',\n",
       " 'hasContainerItem',\n",
       " 'bestEquipmentSlot']"
      ]
     },
     "execution_count": 6,
     "metadata": {},
     "output_type": "execute_result"
    }
   ],
   "source": [
    "print(\"item property\")\n",
    "list(ALL_ITEMS['air'].keys())"
   ]
  },
  {
   "cell_type": "code",
   "execution_count": 7,
   "metadata": {},
   "outputs": [
    {
     "data": {
      "text/plain": [
       "dict_keys(['head', 'chest', 'legs', 'feet', 'offhand'])"
      ]
     },
     "execution_count": 7,
     "metadata": {},
     "output_type": "execute_result"
    }
   ],
   "source": [
    "EQUIPABLE_ITEMS.keys()"
   ]
  },
  {
   "cell_type": "code",
   "execution_count": 8,
   "metadata": {},
   "outputs": [
    {
     "name": "stdout",
     "output_type": "stream",
     "text": [
      "Head equipments:  14\n",
      "Chest equipments:  7\n",
      "Legs equipments:  6\n",
      "Feet equipments:  6\n",
      "offhand equipments:  1\n"
     ]
    }
   ],
   "source": [
    "print(\"Head equipments: \",len(EQUIPABLE_ITEMS['head']))\n",
    "print(\"Chest equipments: \",len(EQUIPABLE_ITEMS['chest']))\n",
    "print(\"Legs equipments: \",len(EQUIPABLE_ITEMS['legs']))\n",
    "print(\"Feet equipments: \",len(EQUIPABLE_ITEMS['feet']))\n",
    "print(\"offhand equipments: \",len(EQUIPABLE_ITEMS['offhand']))"
   ]
  },
  {
   "cell_type": "code",
   "execution_count": 9,
   "metadata": {},
   "outputs": [
    {
     "data": {
      "text/plain": [
       "78"
      ]
     },
     "execution_count": 9,
     "metadata": {},
     "output_type": "execute_result"
    }
   ],
   "source": [
    "len(CARED_ITEMS)"
   ]
  },
  {
   "cell_type": "code",
   "execution_count": 10,
   "metadata": {},
   "outputs": [
    {
     "name": "stdout",
     "output_type": "stream",
     "text": [
      "False\n"
     ]
    },
    {
     "data": {
      "text/plain": [
       "605"
      ]
     },
     "execution_count": 10,
     "metadata": {},
     "output_type": "execute_result"
    }
   ],
   "source": [
    "print(set(RECIPES_BOOKS.keys()).issubset(set(ALL_ITEMS.keys())))\n",
    "len(set(RECIPES_BOOKS.keys()) & set(ALL_ITEMS.keys()))"
   ]
  },
  {
   "cell_type": "code",
   "execution_count": 11,
   "metadata": {},
   "outputs": [
    {
     "name": "stdout",
     "output_type": "stream",
     "text": [
      "False\n"
     ]
    },
    {
     "data": {
      "text/plain": [
       "249"
      ]
     },
     "execution_count": 11,
     "metadata": {},
     "output_type": "execute_result"
    }
   ],
   "source": [
    "print(set(RECIPES_INGREDIENTS).issubset(set(ALL_ITEMS.keys())))\n",
    "len(set(RECIPES_INGREDIENTS) & set(ALL_ITEMS.keys()))"
   ]
  },
  {
   "cell_type": "code",
   "execution_count": 12,
   "metadata": {},
   "outputs": [
    {
     "name": "stdout",
     "output_type": "stream",
     "text": [
      "True\n",
      "False\n",
      "False\n"
     ]
    }
   ],
   "source": [
    "print(set(CARED_ITEMS).issubset(set(ALL_ITEMS.keys())))\n",
    "print(set(CARED_ITEMS).issubset(set(RECIPES_INGREDIENTS)))\n",
    "print(set(CARED_ITEMS).issubset(set(RECIPES_BOOKS.keys())))"
   ]
  },
  {
   "cell_type": "code",
   "execution_count": 13,
   "metadata": {},
   "outputs": [],
   "source": [
    "filtered_dict = {key: ALL_ITEMS[key] for key in CARED_ITEMS if key in ALL_ITEMS}\n",
    "\n",
    "# Save the filtered dictionary as a JSON file\n",
    "with open('cared_items_with_property.json', 'w') as json_file:\n",
    "    json.dump(filtered_dict, json_file, indent=4)"
   ]
  },
  {
   "cell_type": "code",
   "execution_count": 14,
   "metadata": {},
   "outputs": [],
   "source": [
    "filtered_ingredients = list(set(CARED_ITEMS).intersection(RECIPES_INGREDIENTS))"
   ]
  },
  {
   "cell_type": "code",
   "execution_count": 15,
   "metadata": {},
   "outputs": [],
   "source": [
    "# Save the filtered dictionary as a JSON file\n",
    "with open('cared_ingredients.json', 'w') as json_file:\n",
    "    json.dump(filtered_ingredients, json_file, indent=4)"
   ]
  },
  {
   "cell_type": "code",
   "execution_count": 16,
   "metadata": {},
   "outputs": [],
   "source": [
    "filtered_recipes_keys = list(set(CARED_ITEMS).intersection(set(RECIPES_BOOKS.keys())))\n",
    "filtered_recipes = {key: RECIPES_BOOKS[key] for key in filtered_recipes_keys}"
   ]
  },
  {
   "cell_type": "code",
   "execution_count": 17,
   "metadata": {},
   "outputs": [],
   "source": [
    "keys = set()\n",
    "for aim, recipy in filtered_recipes.items():\n",
    "    for k in recipy.keys():\n",
    "        keys.add(k)"
   ]
  },
  {
   "cell_type": "code",
   "execution_count": 18,
   "metadata": {},
   "outputs": [
    {
     "data": {
      "text/plain": [
       "{'cookingtime',\n",
       " 'experience',\n",
       " 'group',\n",
       " 'ingredient',\n",
       " 'ingredients',\n",
       " 'key',\n",
       " 'pattern',\n",
       " 'result',\n",
       " 'type'}"
      ]
     },
     "execution_count": 18,
     "metadata": {},
     "output_type": "execute_result"
    }
   ],
   "source": [
    "keys"
   ]
  },
  {
   "cell_type": "code",
   "execution_count": 19,
   "metadata": {},
   "outputs": [
    {
     "name": "stdout",
     "output_type": "stream",
     "text": [
      "torch coals\n",
      "stone_shovel stone_tool_materials\n",
      "crafting_table planks\n",
      "wooden_shovel planks\n",
      "dark_oak_planks dark_oak_logs\n",
      "stone_sword stone_tool_materials\n",
      "oak_planks oak_logs\n",
      "yellow_bed yellow_wool\n",
      "yellow_bed planks\n",
      "wooden_sword planks\n",
      "spruce_planks spruce_logs\n",
      "jungle_planks jungle_logs\n",
      "acacia_planks acacia_logs\n",
      "wooden_pickaxe planks\n",
      "gold_ingot gold_ores\n",
      "stick planks\n",
      "leather rabbit_hide\n",
      "birch_planks birch_logs\n",
      "stone_axe stone_tool_materials\n",
      "diamond diamond_block\n",
      "white_bed planks\n",
      "orange_bed orange_dye\n",
      "furnace stone_crafting_materials\n",
      "red_bed red_wool\n",
      "red_bed planks\n",
      "coal coal_block\n",
      "wooden_axe planks\n",
      "stone_pickaxe stone_tool_materials\n"
     ]
    }
   ],
   "source": [
    "keys_to_remove = []\n",
    "for aim, recipy in filtered_recipes.items():\n",
    "\n",
    "    if 'key' in  recipy.keys():\n",
    "        for k, v in recipy['key'].items():\n",
    "            try:\n",
    "                t = v['item'].replace(\"minecraft:\", \"\")\n",
    "            except:\n",
    "                t = v['tag'].replace(\"minecraft:\", \"\")\n",
    "            if t not in CARED_ITEMS:\n",
    "                print(aim, t)\n",
    "                keys_to_remove.append(aim)\n",
    "    \n",
    "    if 'ingredient' in  recipy.keys():\n",
    "        for k, v in recipy['ingredient'].items():\n",
    "            if k in ['item', 'tag']:   \n",
    "                t = v.replace(\"minecraft:\", \"\")\n",
    "            if t not in CARED_ITEMS:\n",
    "                print(aim, t)\n",
    "                keys_to_remove.append(aim)\n",
    "\n",
    "    if 'ingredients' in  recipy.keys():\n",
    "        for v in recipy['ingredients']:\n",
    "            try:\n",
    "                t = v['item'].replace(\"minecraft:\", \"\")\n",
    "            except:\n",
    "                t = v['tag'].replace(\"minecraft:\", \"\")\n",
    "            if t not in CARED_ITEMS:\n",
    "                print(aim, t)\n",
    "                keys_to_remove.append(aim)\n",
    "    \n",
    "    if 'result' in  recipy.keys():\n",
    "        if isinstance(recipy['result'], str):\n",
    "            t = recipy['result'].replace(\"minecraft:\", \"\")\n",
    "        else:\n",
    "            for k, v in recipy['result'].items():\n",
    "                if k in ['item', 'tag']:   \n",
    "                    t = v.replace(\"minecraft:\", \"\")\n",
    "\n",
    "        if t not in CARED_ITEMS:\n",
    "            print(aim, t)\n",
    "            keys_to_remove.append(aim)"
   ]
  },
  {
   "cell_type": "code",
   "execution_count": 20,
   "metadata": {},
   "outputs": [
    {
     "data": {
      "text/plain": [
       "(26, 56)"
      ]
     },
     "execution_count": 20,
     "metadata": {},
     "output_type": "execute_result"
    }
   ],
   "source": [
    "len(set(keys_to_remove)), len(filtered_recipes)"
   ]
  },
  {
   "cell_type": "code",
   "execution_count": 21,
   "metadata": {},
   "outputs": [],
   "source": [
    "for k in set(keys_to_remove):\n",
    "    del filtered_recipes[k]\n",
    "\n",
    "# Save the filtered dictionary as a JSON file\n",
    "with open('cared_recipies.json', 'w') as json_file:\n",
    "    json.dump(filtered_recipes, json_file, indent=4)"
   ]
  },
  {
   "cell_type": "code",
   "execution_count": 22,
   "metadata": {},
   "outputs": [],
   "source": [
    "with open(TASKS_FILE, 'r') as f:\n",
    "    jarvis_tasks = json.load(f)\n",
    "\n",
    "with open(SKILL_FILE, 'r') as f:\n",
    "    jarvis_skills = json.load(f)\n"
   ]
  },
  {
   "cell_type": "code",
   "execution_count": 25,
   "metadata": {},
   "outputs": [],
   "source": [
    "skill_type = set()\n",
    "for skill_object in jarvis_skills:\n",
    "    for act_choice in jarvis_skills[skill_object]:\n",
    "        skill_type.add(act_choice['type'])"
   ]
  },
  {
   "cell_type": "code",
   "execution_count": 26,
   "metadata": {},
   "outputs": [
    {
     "data": {
      "text/plain": [
       "{'equip', 'mine'}"
      ]
     },
     "execution_count": 26,
     "metadata": {},
     "output_type": "execute_result"
    }
   ],
   "source": [
    "skill_type"
   ]
  },
  {
   "cell_type": "code",
   "execution_count": null,
   "metadata": {},
   "outputs": [],
   "source": [
    "'''\n",
    "explore\n",
    "chop down\n",
    "equip\n",
    "break\n",
    "mine\n",
    "collect\n",
    "get\n",
    "dig\n",
    "gather\n",
    "dig down\n",
    "obtain\n",
    "kill\n",
    "combat\n",
    "'''"
   ]
  }
 ],
 "metadata": {
  "kernelspec": {
   "display_name": "jarvis",
   "language": "python",
   "name": "python3"
  },
  "language_info": {
   "codemirror_mode": {
    "name": "ipython",
    "version": 3
   },
   "file_extension": ".py",
   "mimetype": "text/x-python",
   "name": "python",
   "nbconvert_exporter": "python",
   "pygments_lexer": "ipython3",
   "version": "3.10.16"
  }
 },
 "nbformat": 4,
 "nbformat_minor": 2
}
